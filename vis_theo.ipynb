{
 "cells": [
  {
   "cell_type": "code",
   "execution_count": null,
   "metadata": {},
   "outputs": [],
   "source": [
    "import numpy as np\n",
    "import matplotlib\n",
    "import matplotlib.pyplot as plt\n",
    "from matplotlib import cm\n",
    "from sweep import *\n",
    "%matplotlib tk\n",
    "plt.rc('font', family=\"Arial\")\n",
    "plt.rcParams['font.size'] = '12'"
   ]
  },
  {
   "cell_type": "code",
   "execution_count": null,
   "metadata": {},
   "outputs": [],
   "source": [
    "plt.figure(figsize=(4, 3.1))\n",
    "rho = np.linspace(-0.92, 0.92, 100)\n",
    "ratio = np.linspace(1, 3, 100)\n",
    "rho_, ratio_ = np.meshgrid(rho, ratio)\n",
    "rho_.shape, ratio_.shape\n",
    "lag = 1 + (ratio_**2 - 1) / (1 - rho_**2)\n",
    "plt.pcolor(rho, ratio, lag, cmap='Greys', norm=matplotlib.colors.LogNorm(), rasterized=True)\n",
    "plt.xlabel(r\"Correlation coefficient $\\rho$\")\n",
    "plt.ylabel(r\"Variance ratio $\\sigma_A / \\sigma_B$\")\n",
    "cbar = plt.colorbar()\n",
    "cbar.set_label('Time ratio $t_B / t_A$')\n",
    "plt.tight_layout(pad=0.3)\n",
    "plt.savefig(\"toy_sweep_time_heatmap.pdf\")"
   ]
  },
  {
   "cell_type": "code",
   "execution_count": null,
   "metadata": {},
   "outputs": [],
   "source": [
    "plt.figure(figsize=(4, 3.1))\n",
    "rho = np.linspace(-0.92, 0.92, 100)\n",
    "ratio = np.linspace(1, 3, 100)\n",
    "rho_, ratio_ = np.meshgrid(rho, ratio)\n",
    "rho_.shape, ratio_.shape\n",
    "bias = rho_/ratio_\n",
    "plt.pcolor(rho, ratio, bias, cmap='RdGy', rasterized=True)\n",
    "plt.xlabel(r\"Correlation coefficient $\\rho$\")\n",
    "plt.ylabel(r\"Variance ratio $\\sigma_A / \\sigma_B$\")\n",
    "cbar = plt.colorbar()\n",
    "cbar.set_label('Misattribution $W_{A}^{tot}(\\infty) - W_{A}^{tot}(t_{uni})$')\n",
    "plt.tight_layout(pad=0.3)\n",
    "plt.savefig(\"toy_sweep_misattribute_heatmap.pdf\")"
   ]
  },
  {
   "cell_type": "code",
   "execution_count": null,
   "metadata": {},
   "outputs": [],
   "source": [
    "fig, ax = plt.subplots(figsize=(3.5, 3))\n",
    "ratio = np.linspace(0.02, 3, 100)\n",
    "contribute = 1/ratio\n",
    "priorize = 1/ratio**2\n",
    "plt.plot(ratio, priorize, 'k', linewidth=2, label='Prioritization')\n",
    "plt.plot(ratio, contribute, 'k--', linewidth=2, label='Contribution')\n",
    "ax.fill_between(ratio, contribute, priorize, color='r', edgecolor='none', alpha=0.4)\n",
    "plt.xlabel(r\"Variance ratio $\\sigma_A / \\sigma_B$\")\n",
    "plt.ylabel(r\"$w_A^\\ast / w_B^\\ast$\")\n",
    "plt.xlim((0, 3))\n",
    "plt.ylim((0, 3))\n",
    "plt.xticks([0, 1, 2, 3])\n",
    "plt.yticks([0, 1, 2, 3])\n",
    "plt.legend()\n",
    "plt.tight_layout(pad=0.3)"
   ]
  },
  {
   "cell_type": "code",
   "execution_count": null,
   "metadata": {},
   "outputs": [],
   "source": [
    "def late(x,y):\n",
    "    d1 = (4 - 4*x**2) * x\n",
    "    d2 = (1 - y**2) * y\n",
    "    return d1, d2\n",
    "\n",
    "x1 = np.linspace(-1.2, 1.2, 13)\n",
    "x2 = np.linspace(-1.2, 1.2, 13)\n",
    "X1, X2 = np.meshgrid(x1, x2)\n",
    "u, v = np.zeros(X1.shape), np.zeros(X2.shape)\n",
    "NI, NJ = X1.shape\n",
    "for i in range(NI):\n",
    "    for j in range(NJ):\n",
    "        u[i,j], v[i,j] = late(X1[i, j], X2[i, j])\n",
    "\n",
    "plt.figure(figsize=(4, 4))     \n",
    "plt.xlabel(r\"$u_A$\")\n",
    "plt.ylabel(r\"$u_B$\")\n",
    "plt.scatter(0, 0, c='none', edgecolors='r', label=r'$\\mathcal {M}_0$')\n",
    "plt.plot([1,1,-1,-1], [1,-1,1,-1], 'ro', label=r'$\\mathcal {M}_*$')\n",
    "plt.plot([1,-1], [0,0], 'bx', label=r'$\\mathcal {M}_A$')\n",
    "plt.plot([0,0], [1,-1], c='fuchsia', marker='x', linestyle='none', label=r'$\\mathcal {M}_B$')\n",
    "plt.plot([0,1,1], [0,0,1], c='lime', label='Path 1')\n",
    "plt.plot([0,-1,-1], [0,0,-1], c='lime', linestyle='dotted', label='Path 2')\n",
    "Q = plt.quiver(X1, X2, u, v, color='k', width=0.003, zorder=20)\n",
    "plt.legend(loc=(1.04, 0.5))"
   ]
  },
  {
   "cell_type": "code",
   "execution_count": null,
   "metadata": {},
   "outputs": [],
   "source": [
    "def early(x,y):\n",
    "    w = np.sqrt(x**2 + y**2)\n",
    "    if x < 0:\n",
    "        w = -w\n",
    "    duA = (4 - 4*x*w) * w\n",
    "    dbB = (1 - y*w) * w\n",
    "    return duA, dbB\n",
    "\n",
    "uA = np.linspace(-1.2, 1.2, 13)\n",
    "uB = np.linspace(-1.2, 1.2, 13)\n",
    "uA, uB = np.meshgrid(uA, uB)\n",
    "duA, dbB = np.zeros(uA.shape), np.zeros(uB.shape)\n",
    "NI, NJ = uA.shape\n",
    "for i in range(NI):\n",
    "    for j in range(NJ):\n",
    "        duA[i,j], dbB[i,j] = early(uA[i, j], uB[i, j])\n",
    "\n",
    "plt.figure(figsize=(4, 4))     \n",
    "plt.xlabel(r\"$u_A$\")\n",
    "plt.ylabel(r\"$u_B$\")\n",
    "plt.scatter(0, 0, c='none', edgecolors='r', label=r'$\\mathcal {M}_0$')\n",
    "plt.plot([1,1,-1,-1], [1,-1,1,-1], 'ro', label=r'$\\mathcal {M}_*$')\n",
    "Q = plt.quiver(uA, uB, duA, dbB, color='k', width=0.003, zorder=20)\n",
    "plt.legend(loc=(1.04, 0.5))"
   ]
  }
 ],
 "metadata": {
  "kernelspec": {
   "display_name": "gdln",
   "language": "python",
   "name": "python3"
  },
  "language_info": {
   "codemirror_mode": {
    "name": "ipython",
    "version": 3
   },
   "file_extension": ".py",
   "mimetype": "text/x-python",
   "name": "python",
   "nbconvert_exporter": "python",
   "pygments_lexer": "ipython3",
   "version": "3.9.18"
  },
  "orig_nbformat": 4
 },
 "nbformat": 4,
 "nbformat_minor": 2
}
